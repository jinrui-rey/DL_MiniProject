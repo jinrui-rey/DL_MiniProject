{
 "cells": [
  {
   "cell_type": "code",
   "execution_count": 24,
   "metadata": {
    "id": "7Oux3ATL4TXc"
   },
   "outputs": [],
   "source": [
    "import numpy as np\n",
    "import matplotlib.pyplot as plt\n",
    "\n",
    "from torch.utils.data import Dataset, DataLoader\n",
    "from torchvision import datasets, transforms\n",
    "import torch.optim as optim\n",
    "import torch\n",
    "import torch.nn as nn\n",
    "\n",
    "from New_Project import *"
   ]
  },
  {
   "cell_type": "code",
   "execution_count": 25,
   "metadata": {
    "id": "q-YYqq4m8GHo"
   },
   "outputs": [],
   "source": [
    "def unpickle(file):\n",
    "    import pickle\n",
    "    with open(file, 'rb') as fo:\n",
    "        dict = pickle.load(fo, encoding='bytes')\n",
    "    return dict\n",
    "\n",
    "file = 'cifar_test_nolabels.pkl'\n",
    "data = unpickle(file)"
   ]
  },
  {
   "cell_type": "code",
   "execution_count": 26,
   "metadata": {
    "colab": {
     "base_uri": "https://localhost:8080/",
     "height": 422
    },
    "id": "vvV9yozR8n4g",
    "outputId": "916b3bdf-e86f-419e-faf2-b6e5bce62386"
   },
   "outputs": [
    {
     "data": {
      "image/png": "[encoded data removed]",
      "text/plain": [
       "<Figure size 500x500 with 4 Axes>"
      ]
     },
     "metadata": {},
     "output_type": "display_data"
    }
   ],
   "source": [
    "def Toimage(data):\n",
    "    image_dict = {}\n",
    "    for i,e in enumerate(data[b'data']):\n",
    "        red_channel = e[:1024]\n",
    "        green_channel = e[1024:2048]\n",
    "        blue_channel = e[2048:]\n",
    "\n",
    "        image_data = np.zeros((32, 32, 3), dtype=np.uint8)\n",
    "        image_data[:,:,0] = np.reshape(red_channel, (32, 32))   # Red channel\n",
    "        image_data[:,:,1] = np.reshape(green_channel, (32, 32)) # Green channel\n",
    "        image_data[:,:,2] = np.reshape(blue_channel, (32, 32))  # Blue channel\n",
    "\n",
    "        image_dict[i] = image_data\n",
    "    return image_dict\n",
    "\n",
    "\n",
    "image_dict = Toimage(data)\n",
    "\n",
    "pic_num = 4\n",
    "\n",
    "rows = int(np.sqrt(pic_num))\n",
    "cols = int(np.sqrt(pic_num))\n",
    "fig = plt.figure(figsize = (5, 5))\n",
    "for i in range(rows*cols):\n",
    "    ax = fig.add_subplot(rows, cols, i+1)\n",
    "    image = image_dict[i]\n",
    "    ax.imshow(image)\n",
    "\n",
    "    ax.axis('off')"
   ]
  },
  {
   "cell_type": "code",
   "execution_count": 27,
   "metadata": {
    "id": "w74h65lN8uai"
   },
   "outputs": [],
   "source": [
    "class CustomCIFAR10Dataset(Dataset):\n",
    "    def __init__(self, data):\n",
    "        self.data = data\n",
    "\n",
    "    def __len__(self):\n",
    "        return len(self.data)\n",
    "\n",
    "    def __getitem__(self, idx):\n",
    "        # Extract and reshape the image data for the given index\n",
    "        image = self.data[idx].reshape(3, 32, 32)  # Reshape to (3, 32, 32) for RGB format\n",
    "        image = image.transpose((1, 2, 0))  # Convert from (3, 32, 32) to (32, 32, 3) for PIL compatibility\n",
    "        image = transforms.ToTensor()(image)  # Convert to PyTorch tensor and normalize\n",
    "\n",
    "        return image\n"
   ]
  },
  {
   "cell_type": "code",
   "execution_count": 41,
   "metadata": {
    "colab": {
     "base_uri": "https://localhost:8080/"
    },
    "id": "uW1UfGN58xQr",
    "outputId": "cd590508-0d3f-4132-a40e-45f1c6579c29"
   },
   "outputs": [
    {
     "name": "stdout",
     "output_type": "stream",
     "text": [
      "model loaded from ./final_0406214550.pth\n"
     ]
    }
   ],
   "source": [
    "dataset = CustomCIFAR10Dataset(image_dict)\n",
    "batch_size = 128\n",
    "dataloader = DataLoader(dataset, batch_size=batch_size, shuffle=False)\n",
    "device = torch.device('cuda' if torch.cuda.is_available() else 'mps')\n",
    "\n",
    "\n",
    "args = parse_args()\n",
    "model = ResNetModel(args, train=False)\n",
    "model.load_model('./final_0406214550.pth')\n",
    "\n",
    "pred_labels = []\n",
    "with torch.no_grad():\n",
    "    for images in dataloader:\n",
    "        images = images.to(device)\n",
    "        outputs = model.net(images)\n",
    "        _, predicted = torch.max(outputs.data, 1)\n",
    "        pred_labels += predicted.tolist()\n",
    "\n"
   ]
  },
  {
   "cell_type": "code",
   "execution_count": 42,
   "metadata": {
    "colab": {
     "base_uri": "https://localhost:8080/"
    },
    "id": "UIXpTJTXCENI",
    "outputId": "f6ada159-ae81-4e35-b9d0-7a2ddee4b190"
   },
   "outputs": [
    {
     "name": "stdout",
     "output_type": "stream",
     "text": [
      "CSV file 'output.csv' has been created successfully.\n"
     ]
    }
   ],
   "source": [
    "import csv\n",
    "\n",
    "def write_lists_to_csv(list1, list2, csv_filename):\n",
    "    # Ensure the lengths of both lists are the same\n",
    "    if len(list1) != len(list2):\n",
    "        raise ValueError(\"The lengths of the input lists must be the same.\")\n",
    "\n",
    "    # Create or open the CSV file in write mode\n",
    "    with open(csv_filename, 'w', newline='') as csvfile:\n",
    "        # Define the header names for the columns\n",
    "        fieldnames = ['ID', 'Labels']\n",
    "\n",
    "        # Create a CSV writer object\n",
    "        writer = csv.DictWriter(csvfile, fieldnames=fieldnames)\n",
    "\n",
    "        # Write the header (column names) to the CSV file\n",
    "        writer.writeheader()\n",
    "\n",
    "        # Write rows to the CSV file based on the lists\n",
    "        for id_value, label_value in zip(list1, list2):\n",
    "            writer.writerow({'ID': id_value, 'Labels': label_value})\n",
    "\n",
    "# Example lists of IDs and Labels\n",
    "ids = [i for i in range(10000)]\n",
    "\n",
    "\n",
    "# Specify the CSV filename\n",
    "csv_filename = 'output.csv'\n",
    "\n",
    "# Call the function to write lists to CSV\n",
    "write_lists_to_csv(ids, pred_labels, csv_filename)\n",
    "\n",
    "print(f\"CSV file '{csv_filename}' has been created successfully.\")\n"
   ]
  }
 ],
 "metadata": {
  "accelerator": "GPU",
  "colab": {
   "gpuType": "T4",
   "provenance": []
  },
  "kernelspec": {
   "display_name": "Python 3 (ipykernel)",
   "language": "python",
   "name": "python3"
  },
  "language_info": {
   "codemirror_mode": {
    "name": "ipython",
    "version": 3
   },
   "file_extension": ".py",
   "mimetype": "text/x-python",
   "name": "python",
   "nbconvert_exporter": "python",
   "pygments_lexer": "ipython3",
   "version": "3.11.5"
  }
 },
 "nbformat": 4,
 "nbformat_minor": 1
}
